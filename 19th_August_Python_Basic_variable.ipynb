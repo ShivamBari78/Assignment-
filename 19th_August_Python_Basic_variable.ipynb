{
 "cells": [
  {
   "cell_type": "code",
   "execution_count": 2,
   "id": "41a0a77e-9929-4171-a4e0-bfbd7050cbec",
   "metadata": {},
   "outputs": [
    {
     "name": "stdout",
     "output_type": "stream",
     "text": [
      "y= 3 x= 2\n"
     ]
    }
   ],
   "source": [
    "#Swaping 2 Numbers without using extra variable\n",
    "x=3\n",
    "y=2\n",
    "x=x+y\n",
    "y=x-y\n",
    "x=x-y\n",
    "print('y=',y,'x=',x)"
   ]
  },
  {
   "cell_type": "code",
   "execution_count": 4,
   "id": "ec0f464c-60ca-45d3-b7ad-fb3201de8a74",
   "metadata": {},
   "outputs": [
    {
     "name": "stdin",
     "output_type": "stream",
     "text": [
      "Enter Length of rectangle=  4\n",
      "Enter width of rectangle=  8\n"
     ]
    },
    {
     "name": "stdout",
     "output_type": "stream",
     "text": [
      "Area of rectangle =  32\n"
     ]
    }
   ],
   "source": [
    "#Area of rectangle\n",
    "l=int(input(\"Enter Length of rectangle= \"))\n",
    "w=int(input(\"Enter width of rectangle= \"))\n",
    "area=l*w\n",
    "print(\"Area of rectangle = \",area)"
   ]
  },
  {
   "cell_type": "code",
   "execution_count": 5,
   "id": "42bef735-f1e0-47b6-978a-a6920b7f9042",
   "metadata": {},
   "outputs": [
    {
     "name": "stdin",
     "output_type": "stream",
     "text": [
      "Enter temperature in celcius=  30\n"
     ]
    },
    {
     "name": "stdout",
     "output_type": "stream",
     "text": [
      "Temperature in fahrenheit=  86.0\n"
     ]
    }
   ],
   "source": [
    "#Convert celcius into fahrenheits\n",
    "c=int(input(\"Enter temperature in celcius= \"))\n",
    "f=(c*1.8)+32\n",
    "print(\"Temperature in fahrenheit= \",f)"
   ]
  },
  {
   "cell_type": "code",
   "execution_count": 6,
   "id": "c3be6db2-84f1-4db2-81ed-6275030c9381",
   "metadata": {},
   "outputs": [
    {
     "name": "stdin",
     "output_type": "stream",
     "text": [
      "Enter the string  shivam bari\n"
     ]
    },
    {
     "name": "stdout",
     "output_type": "stream",
     "text": [
      "Length of string is=  11\n"
     ]
    }
   ],
   "source": [
    "#Prints the lenght of string\n",
    "a=str(input(\"Enter the string \"))\n",
    "l=len(a)\n",
    "print(\"Length of string is= \",l)"
   ]
  },
  {
   "cell_type": "code",
   "execution_count": 3,
   "id": "347bf75d-d4fc-42a1-adda-5da49b9fc3d8",
   "metadata": {},
   "outputs": [
    {
     "name": "stdout",
     "output_type": "stream",
     "text": [
      "ecneics atad ni weN\n"
     ]
    }
   ],
   "source": [
    "given_str=\"New in data science\"\n",
    "a=given_str[-1::-1]\n",
    "print(a)"
   ]
  },
  {
   "cell_type": "code",
   "execution_count": 14,
   "id": "fc743eb6-a2a5-4bb1-a9f9-b1388b1bb57f",
   "metadata": {},
   "outputs": [
    {
     "name": "stdin",
     "output_type": "stream",
     "text": [
      "Enter a string  nayan\n"
     ]
    },
    {
     "name": "stdout",
     "output_type": "stream",
     "text": [
      "String is palandrome\n"
     ]
    }
   ],
   "source": [
    "#check whether the string is palandrome or not\n",
    "s1=input(\"Enter a string \")\n",
    "b=s1[-1::-1]\n",
    "if(s1==b):\n",
    " print(\"String is palandrome\")\n",
    "else:\n",
    " print(\"String is not palandrome\")"
   ]
  },
  {
   "cell_type": "code",
   "execution_count": 15,
   "id": "da4ccc45-ff2c-40d0-8fd7-9eb3f42373d1",
   "metadata": {},
   "outputs": [
    {
     "name": "stdin",
     "output_type": "stream",
     "text": [
      "Enter a string S H I V A M\n"
     ]
    },
    {
     "name": "stdout",
     "output_type": "stream",
     "text": [
      "SHIVAM\n"
     ]
    }
   ],
   "source": [
    "#Remove Spaces\n",
    "s1=input(\"Enter a string\")\n",
    "r=s1.replace(\" \",\"\")\n",
    "print(r)"
   ]
  }
 ],
 "metadata": {
  "kernelspec": {
   "display_name": "Python 3 (ipykernel)",
   "language": "python",
   "name": "python3"
  },
  "language_info": {
   "codemirror_mode": {
    "name": "ipython",
    "version": 3
   },
   "file_extension": ".py",
   "mimetype": "text/x-python",
   "name": "python",
   "nbconvert_exporter": "python",
   "pygments_lexer": "ipython3",
   "version": "3.10.8"
  }
 },
 "nbformat": 4,
 "nbformat_minor": 5
}
